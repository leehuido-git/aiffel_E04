{
 "cells": [
  {
   "cell_type": "code",
   "execution_count": null,
   "metadata": {},
   "outputs": [],
   "source": [
    "import glob\n",
    "import os\n",
    "import sys\n",
    "from tkinter.tix import Tree\n",
    "import tensorflow as tf\n",
    "import matplotlib.pyplot as plt\n",
    "\n",
    "from tensorflow import keras\n",
    "from sklearn.model_selection import train_test_split\n",
    "from module.preprocessing import pre_sentences\n",
    "from module.model import TextGenerator\n",
    "from module.gen_sentence import generate_text"
   ]
  },
  {
   "cell_type": "code",
   "execution_count": null,
   "metadata": {},
   "outputs": [],
   "source": [
    "#hyper parameters\n",
    "img_show = True\n",
    "embedding_size = 512\n",
    "hidden_size = 2048\n",
    "epoch = 10"
   ]
  },
  {
   "cell_type": "code",
   "execution_count": 3,
   "metadata": {},
   "outputs": [
    {
     "name": "stdout",
     "output_type": "stream",
     "text": [
      "데이터 크기: 187088\n"
     ]
    }
   ],
   "source": [
    "local_path = os.getcwd()\n",
    "txt_file_path = os.path.join(local_path, 'data', 'lyrics', '*')\n",
    "txt_list = glob.glob(txt_file_path)\n",
    "raw_corpus = []\n",
    "for txt_file in txt_list:\n",
    "    with open(txt_file, 'r', encoding='UTF-8') as f:\n",
    "        raw = f.read().splitlines()\n",
    "        raw_corpus.extend(raw)\n",
    "print(\"데이터 크기:\", len(raw_corpus))"
   ]
  },
  {
   "cell_type": "code",
   "execution_count": 4,
   "metadata": {},
   "outputs": [],
   "source": [
    "tensor, tokenizer = pre_sentences(raw_corpus)\n",
    "src_input = tensor[:, :-1]\n",
    "tgt_input = tensor[:, 1:]\n",
    "enc_train, enc_val, dec_train, dec_val = train_test_split(src_input, tgt_input, test_size=0.2, random_state=42)"
   ]
  },
  {
   "cell_type": "code",
   "execution_count": 5,
   "metadata": {},
   "outputs": [],
   "source": [
    "model = TextGenerator(tokenizer.num_words + 1, embedding_size, hidden_size)"
   ]
  },
  {
   "cell_type": "code",
   "execution_count": 6,
   "metadata": {},
   "outputs": [],
   "source": [
    "model.compile(loss=tf.keras.losses.SparseCategoricalCrossentropy(from_logits=True, reduction='none')\\\n",
    "    , optimizer=tf.keras.optimizers.Adam())\n",
    "\n",
    "early_stop = keras.callbacks.EarlyStopping(monitor=\"val_loss\", min_delta=0, patience=2, restore_best_weights=True)"
   ]
  },
  {
   "cell_type": "code",
   "execution_count": 7,
   "metadata": {},
   "outputs": [
    {
     "name": "stdout",
     "output_type": "stream",
     "text": [
      "Epoch 1/10\n",
      "3901/3901 [==============================] - 435s 106ms/step - loss: 2.9098 - val_loss: 2.6044\n",
      "Epoch 2/10\n",
      "3901/3901 [==============================] - 423s 109ms/step - loss: 2.3390 - val_loss: 2.3474\n",
      "Epoch 3/10\n",
      "3901/3901 [==============================] - 424s 109ms/step - loss: 1.8857 - val_loss: 2.2153\n",
      "Epoch 4/10\n",
      "3901/3901 [==============================] - 425s 109ms/step - loss: 1.5433 - val_loss: 2.1791\n",
      "Epoch 5/10\n",
      "3901/3901 [==============================] - 424s 109ms/step - loss: 1.3178 - val_loss: 2.1966\n",
      "Epoch 6/10\n",
      "3901/3901 [==============================] - 424s 109ms/step - loss: 1.1864 - val_loss: 2.2400\n"
     ]
    }
   ],
   "source": [
    "hist = model.fit(enc_train, dec_train, epochs=epoch, validation_data=(enc_val, dec_val), callbacks=[early_stop])"
   ]
  },
  {
   "cell_type": "code",
   "execution_count": 8,
   "metadata": {},
   "outputs": [
    {
     "data": {
      "image/png": "[encoded data removed]",
      "text/plain": [
       "<Figure size 432x288 with 2 Axes>"
      ]
     },
     "metadata": {
      "needs_background": "light"
     },
     "output_type": "display_data"
    }
   ],
   "source": [
    "if img_show:\n",
    "    fig, loss_ax = plt.subplots()\n",
    "    acc_ax = loss_ax.twinx()\n",
    "\n",
    "    loss_ax.plot(hist.history['loss'], 'y', label='train loss')\n",
    "    loss_ax.set_xlabel('epoch')\n",
    "    loss_ax.set_ylabel('loss')\n",
    "    loss_ax.legend(loc='upper left')\n",
    "\n",
    "    acc_ax.plot(hist.history['val_loss'], 'b', label='validation acc')\n",
    "    acc_ax.set_ylabel('val_loss')\n",
    "    acc_ax.legend(loc='upper right')\n",
    "    plt.show()"
   ]
  },
  {
   "cell_type": "code",
   "execution_count": 11,
   "metadata": {},
   "outputs": [
    {
     "name": "stdout",
     "output_type": "stream",
     "text": [
      "I love\n",
      "<unk> love <end> \n",
      "q\n"
     ]
    }
   ],
   "source": [
    "while(True):\n",
    "    sent = input()\n",
    "    if sent == 'q':\n",
    "        break\n",
    "    print(generate_text(model, tokenizer, init_sentence=(\"<start>\"+sent), max_len=20))"
   ]
  }
 ],
 "metadata": {
  "kernelspec": {
   "display_name": "Python 3 (ipykernel)",
   "language": "python",
   "name": "python3"
  },
  "language_info": {
   "codemirror_mode": {
    "name": "ipython",
    "version": 3
   },
   "file_extension": ".py",
   "mimetype": "text/x-python",
   "name": "python",
   "nbconvert_exporter": "python",
   "pygments_lexer": "ipython3",
   "version": "3.9.7"
  }
 },
 "nbformat": 4,
 "nbformat_minor": 4
}
